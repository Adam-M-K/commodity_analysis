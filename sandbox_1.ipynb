{
 "cells": [
  {
   "cell_type": "markdown",
   "metadata": {},
   "source": [
    "# Rundown of first steps:\n",
    "\n",
    "1. Figure out the structure for data storage. I was thinking of such dictionary: Commodity -> Location -> Data(Price, Temperature, Precipitation, Satellite?, Indexes?).\n",
    "\n",
    "2. Find data vendors with accessible API to fetch price, weather, etc. data. \n",
    "\n",
    "3. Figure out what satellite data to use. Chat proposed some types of data to use but how to find the relevant areas from which to request imagery?\n",
    "\n",
    "4. Function for: fetching data, creating features (indexes, rolling averages).\n",
    "\n"
   ]
  },
  {
   "cell_type": "code",
   "execution_count": 9,
   "metadata": {},
   "outputs": [],
   "source": [
    "import pandas as pd"
   ]
  },
  {
   "cell_type": "code",
   "execution_count": null,
   "metadata": {},
   "outputs": [],
   "source": [
    "# In this structure for initializing the dataset, it is most important to find the key areas of interest while looping through the list of commodities. \n",
    "\n",
    "# Initialize the data dictionary\n",
    "data = {}\n",
    "\n",
    "# Define commodities, locations, and variables\n",
    "commodities = [\"corn\", \"wheat\", \"tobacco\"]\n",
    "variables = [\"Price\", \"Temperature\", \"Precipitation\", \"Satellite\", \"Indexes\"]\n",
    "\n",
    "# Add layers dynamically\n",
    "for commodity in commodities:\n",
    "    data[commodity] = {}\n",
    "    locations = [\"area_1\", \"area_2\", \"area_3\"]\n",
    "    for location in locations:\n",
    "        data[commodity][location] = {var: None for var in variables}"
   ]
  },
  {
   "cell_type": "code",
   "execution_count": 7,
   "metadata": {},
   "outputs": [
    {
     "name": "stdout",
     "output_type": "stream",
     "text": [
      "{'latitude': 41.506638, 'longitude': -93.512474, 'generationtime_ms': 0.03504753112792969, 'utc_offset_seconds': 0, 'timezone': 'GMT', 'timezone_abbreviation': 'GMT', 'elevation': 266.0, 'daily_units': {'time': 'iso8601', 'temperature_2m_max': '°C', 'precipitation_sum': 'mm'}, 'daily': {'time': ['2024-01-01'], 'temperature_2m_max': [None], 'precipitation_sum': [None]}}\n"
     ]
    }
   ],
   "source": [
    "import requests\n",
    "\n",
    "# Specify the coordinates and date\n",
    "latitude = 41.5\n",
    "longitude = -93.5\n",
    "start_date = \"2024-01-01\"\n",
    "end_date = \"2024-01-01\"\n",
    "\n",
    "# Fetch weather data\n",
    "url = f\"https://api.open-meteo.com/v1/forecast?latitude={latitude}&longitude={longitude}&start_date={start_date}&end_date={end_date}&daily=temperature_2m_max,precipitation_sum\"\n",
    "response = requests.get(url)\n",
    "weather_data = response.json()\n",
    "\n",
    "# Print the results\n",
    "print(weather_data)"
   ]
  },
  {
   "cell_type": "code",
   "execution_count": 8,
   "metadata": {},
   "outputs": [
    {
     "data": {
      "text/plain": [
       "{'latitude': 41.506638,\n",
       " 'longitude': -93.512474,\n",
       " 'generationtime_ms': 0.03504753112792969,\n",
       " 'utc_offset_seconds': 0,\n",
       " 'timezone': 'GMT',\n",
       " 'timezone_abbreviation': 'GMT',\n",
       " 'elevation': 266.0,\n",
       " 'daily_units': {'time': 'iso8601',\n",
       "  'temperature_2m_max': '°C',\n",
       "  'precipitation_sum': 'mm'},\n",
       " 'daily': {'time': ['2024-01-01'],\n",
       "  'temperature_2m_max': [None],\n",
       "  'precipitation_sum': [None]}}"
      ]
     },
     "execution_count": 8,
     "metadata": {},
     "output_type": "execute_result"
    }
   ],
   "source": [
    "weather_data"
   ]
  }
 ],
 "metadata": {
  "kernelspec": {
   "display_name": "commodities_env",
   "language": "python",
   "name": "python3"
  },
  "language_info": {
   "codemirror_mode": {
    "name": "ipython",
    "version": 3
   },
   "file_extension": ".py",
   "mimetype": "text/x-python",
   "name": "python",
   "nbconvert_exporter": "python",
   "pygments_lexer": "ipython3",
   "version": "3.13.1"
  }
 },
 "nbformat": 4,
 "nbformat_minor": 2
}
