{
 "cells": [
  {
   "cell_type": "markdown",
   "metadata": {},
   "source": [
    "# Rundown of first steps:\n",
    "\n",
    "1. Figure out the structure for data storage. I was thinking of such dictionary: Commodity -> Location -> Data(Price, Temperature, Precipitation, Satellite?, Indexes?).\n",
    "\n",
    "2. Find data vendors with accessible API to fetch price, weather, etc. data. \n",
    "\n",
    "3. Figure out what satellite data to use. Chat proposed some types of data to use but how to find the relevant areas from which to request imagery?\n",
    "\n",
    "4. Function for: fetching data, creating features (indexes, rolling averages).\n",
    "\n"
   ]
  },
  {
   "cell_type": "code",
   "execution_count": null,
   "metadata": {},
   "outputs": [],
   "source": []
  }
 ],
 "metadata": {
  "language_info": {
   "name": "python"
  }
 },
 "nbformat": 4,
 "nbformat_minor": 2
}
