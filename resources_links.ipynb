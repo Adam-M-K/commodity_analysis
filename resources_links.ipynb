{
 "cells": [
  {
   "cell_type": "markdown",
   "metadata": {},
   "source": [
    "# List of links I found which can be relevant to data collection and processing\n",
    "\n",
    "\n",
    "### Crop-specific information\n",
    "\n",
    "USDA - data on the biggest producing regions of each crop and a CROP CALENDAR. The map shows the approximate regions with the largest production. The exact location of plantations is unknown. Does it matter?\n",
    "https://ipad.fas.usda.gov/ogamaps/cropcalendar.aspx\n",
    "https://ipad.fas.usda.gov/ogamaps/cropproductionmaps.aspx (ideally, I would use the data that was used to produce the maps)\n",
    "Gotta figure out if I can accesss the raw data because the website only presents it in a visual format\n",
    "\n",
    "An idea: I can pinpoint the rough locations of where a specific crop is grown by using the USDA data. From there, I could try using satellite imagery to teach a neural network model how each crop looks in each world are for it to detect where that specific area currently is, based on the most recent photos. It is very cumbersome but it is a solution.\n",
    "https://learn.geo4.dev/Satellite%20Crop%20Mapping.html (This is a source on how to do it)\n",
    "https://dida.do/what-is-crop-type-classification \n",
    "https://www.researchgate.net/publication/348736266_Automatic_Detection_of_Dominant_Crop_Types_in_Poland_Based_on_Satellite_Images\n",
    "\n",
    "\n",
    "### Satellite imagery\n",
    "\n",
    "Sources: Google Earth Engine, Sentinel Hub, NASA EarthData, OpenEO, Planet, Radiant Earth (STAC API)\n",
    "Best: Google Earth Engine, Sentinel Hub, Planet\n",
    "\n",
    "### Weather data\n",
    "\n",
    "Sources: Open-Meteo, OpenWeatherMap, WeatherAPI, NOAA Climate Data Online API, Meteomatics\n",
    "Best, Open-Meteo, NOAA Climate Data Online API\n",
    "\n",
    "\n",
    "\n"
   ]
  }
 ],
 "metadata": {
  "language_info": {
   "name": "python"
  }
 },
 "nbformat": 4,
 "nbformat_minor": 2
}
